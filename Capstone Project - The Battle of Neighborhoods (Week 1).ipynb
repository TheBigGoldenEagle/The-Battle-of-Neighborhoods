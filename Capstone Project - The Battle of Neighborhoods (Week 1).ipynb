{
  "cells": [
    {
      "metadata": {},
      "cell_type": "markdown",
      "source": "## Table of contents\n* [Background](#Background)\n* [Business Problem](#problem)\n* [Target Audience](#Audience)\n* [Data](#data)\n* [Methodology](#methodology)"
    },
    {
      "metadata": {},
      "cell_type": "markdown",
      "source": "\n## Background <a name=\"Background\"></a>"
    },
    {
      "metadata": {},
      "cell_type": "markdown",
      "source": "**Calgary** is the fifth largest city in Canada and the third most populated city after only Toronto and Montreal with a population of nearly 1.4 million. Calgary is located in southern Alberta and it is famous for being the centre of oil industry of Canada.The city ranked 32 in the Mercer's \"2019 Quality of living city ranking\" better than some famous cities such as San Francisco, Paris, London and New York"
    },
    {
      "metadata": {},
      "cell_type": "markdown",
      "source": "## Business Problem <a name=\"problem\"></a>"
    },
    {
      "metadata": {},
      "cell_type": "markdown",
      "source": "The aim of this project is to find the most optimal community to open a new Liquor Store business. The criteria to consider in order to identify the optimal location will be the current number of liquor stores and also the population of age group of 19-64 in each community.  "
    },
    {
      "metadata": {},
      "cell_type": "markdown",
      "source": "## Target Audience <a name=\"Audience\"></a>\n"
    },
    {
      "metadata": {},
      "cell_type": "markdown",
      "source": "The result of this project will be interesting for someone who is already in the Liquore Store business and wants to open another branch or those who are new in this business and looking for an ideal community to open their first Liquor Store"
    },
    {
      "metadata": {},
      "cell_type": "markdown",
      "source": "## Data <a name=\"data\"></a>"
    },
    {
      "metadata": {},
      "cell_type": "markdown",
      "source": "The information regarding community names, their addresses and the population of each community will be collected from the **City of Calgary’s Open Data Portal and Citizen Dashboard**\nThe Community names and codes will be collected from the following link:\nhttps://data.calgary.ca/Demographics/Census-by-Community-2019/rkfr-buzb\n\nThe following source will be used to get the data of the population of age group 19-64 :\nhttps://data.calgary.ca/Demographics/Civic-Census-by-Community-Age-and-Gender/vsk6-ghca\n\nThe geographical coordinates of the centroid of each community are available here:\nhttps://data.calgary.ca/Base-Maps/Community-Points/j9ps-fyst\n\nThe **Foursquare** API will be used to explore each community to find the number of the Liquor Stores that are currently available within each community\n"
    },
    {
      "metadata": {},
      "cell_type": "markdown",
      "source": "## Methodology <a name=\"methodology\"></a>"
    },
    {
      "metadata": {},
      "cell_type": "markdown",
      "source": "The **Socrata Open Data API** will be used to fetch the data from the **City of Calgary's Open Data Portal and Citizenship Dashboard** and conver it to Pandas Dataframe. As a result, we will have three dataframes: the *Census by Community 2019* dataframe will include the community codes and names,the *Census by Community, Age and Gender* will contain the community codes, the population of 10 different age groups in each community and lastly the *Community Point* dataframe will have the geographical coordinate of the centroid of each community.  \n\nFirst, I will aggregate the *Census by Community, Age and Gender* dataframe into only 3 different age groups namely 0-18, 19-64 and 64+, then add up the population of all the genders in the 19-64 age group. Then, I will drop the non-residential communities. Then I will consolidate the resulted dataframe with the other two and drop all unneccessary columns. The remaining columns will be Community name, Population of 19-64, Latitude and Longitude \n\nSecond, I will use Foursquare API to find all the Liquore Stores within 3 Kilometers of the centroid of each community \n\nThird, I will use the **Folium library** to visulize the location of the liquor store in City of Calgary  \n\nForth, I will append my dataframe with a new column which represents the number of Liquore Stores within three kilometrs of the centroid of each community  \n\nFifth, I will devide the population of 19-64 by the number of the liquor stores in each community and add the result as a new column to our dataframe. The result numbers represent the number of people between 19 and 64 years old per liquor store in each community. Therefore the community corresponding with the biggest number is the most optimal community to open a new Liquor Store\n\n"
    },
    {
      "metadata": {
        "trusted": true
      },
      "cell_type": "code",
      "source": "",
      "execution_count": null,
      "outputs": []
    }
  ],
  "metadata": {
    "kernelspec": {
      "name": "python36",
      "display_name": "Python 3.6",
      "language": "python"
    },
    "language_info": {
      "mimetype": "text/x-python",
      "nbconvert_exporter": "python",
      "name": "python",
      "pygments_lexer": "ipython3",
      "version": "3.6.6",
      "file_extension": ".py",
      "codemirror_mode": {
        "version": 3,
        "name": "ipython"
      }
    }
  },
  "nbformat": 4,
  "nbformat_minor": 1
}