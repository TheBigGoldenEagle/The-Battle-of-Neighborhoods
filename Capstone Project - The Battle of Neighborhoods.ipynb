{
  "cells": [
    {
      "metadata": {},
      "cell_type": "markdown",
      "source": "## Table of contents\n* [Background](#Background)\n* [Business Problem](#problem)\n* [Target Audience](#Audience)\n* [Data](#data)\n* [Methodology](#methodology)\n* [Python Code](#python)\n* [Results](#results)\n* [Discussion](#discussion)\n* [Conclusion](#conclusion)\n* [Disclaimer](#disclaimer)"
    },
    {
      "metadata": {},
      "cell_type": "markdown",
      "source": "\n## Background <a name=\"Background\"></a>"
    },
    {
      "metadata": {},
      "cell_type": "markdown",
      "source": "**Calgary** is the fifth largest city in Canada and the third most populated city after only Toronto and Montreal with a population of nearly 1.4 million. Calgary is located in southern Alberta and it is famous for being the centre of oil industry of Canada.The city ranked 32 in the Mercer's \"2019 Quality of living city ranking\" better than some famous cities such as San Francisco, Paris, London and New York"
    },
    {
      "metadata": {},
      "cell_type": "markdown",
      "source": "## Business Problem <a name=\"problem\"></a>"
    },
    {
      "metadata": {},
      "cell_type": "markdown",
      "source": "The aim of this project is to find the most optimal community to open a new Liquor Store business. The criteria to consider in order to identify the optimal location will be the current number of liquor stores and also the population of age group of 19-64 in each community.  "
    },
    {
      "metadata": {},
      "cell_type": "markdown",
      "source": "## Target Audience <a name=\"Audience\"></a>\n"
    },
    {
      "metadata": {},
      "cell_type": "markdown",
      "source": "The result of this project will be interesting for someone who is already in the Liquore Store business and wants to open another branch or those who are new in this business and looking for an ideal community to open their first Liquor Store"
    },
    {
      "metadata": {},
      "cell_type": "markdown",
      "source": "## Data <a name=\"data\"></a>"
    },
    {
      "metadata": {},
      "cell_type": "markdown",
      "source": "The information regarding community names, their addresses and the population of each community will be collected from the **City of Calgary’s Open Data Portal and Citizen Dashboard**\nThe Community names and codes will be collected from the following link:\nhttps://data.calgary.ca/Demographics/Census-by-Community-2019/rkfr-buzb\n\nThe following source will be used to get the data of the population of age group 20-64 :\nhttps://data.calgary.ca/Demographics/Civic-Census-by-Community-Age-and-Gender/vsk6-ghca\n\nThe geographical coordinates of the centroid of each community are available here:\nhttps://data.calgary.ca/Base-Maps/Community-Points/j9ps-fyst\n\nThe **Foursquare** API will be used to explore each community to find the number of the Liquor Stores that are currently available within each community\n"
    },
    {
      "metadata": {},
      "cell_type": "markdown",
      "source": "## Methodology <a name=\"methodology\"></a>"
    },
    {
      "metadata": {},
      "cell_type": "markdown",
      "source": "The **Socrata Open Data API** will be used to fetch the data from the **City of Calgary's Open Data Portal and Citizenship Dashboard** and conver it to Pandas Dataframe. As a result, we will have three dataframes: the *Census by Community 2019* dataframe will include the community codes and names,the *Census by Community, Age and Gender* will contain the community codes, the population of 10 different age groups in each community and lastly the *Community Point* dataframe will have the geographical coordinate of the centroid of each community.  \n\nFirst, I will aggregate the *Census by Community, Age and Gender* dataframe into only 3 different age groups namely 0-19, 20-64 and 65+, then add up the population of all the genders in the 20-64 age group. Then, I will drop the non-residential communities. Then I will consolidate the resulted dataframe with the other two and drop all unneccessary columns. The remaining columns will be Community name, Population of 19-64, Latitude and Longitude \n\nSecond, I will use Foursquare API to find all the Liquore Stores within 4 Kilometers of the centroid of each community \n\nThird, I will use the **Folium library** to visulize the location of the liquor store in City of Calgary  \n\nForth, I will append my dataframe with a new column which represents the number of Liquore Stores within three kilometrs of the centroid of each community  \n\nFifth, I will devide the population of 20-64 by the number of the liquor stores in each community and add the result as a new column to our dataframe. The result numbers represent the number of people between 20 and 64 years old per liquor store in each community. Therefore the community corresponding with the biggest number is the most optimal community to open a new Liquor Store\n\n"
    },
    {
      "metadata": {
        "trusted": true
      },
      "cell_type": "markdown",
      "source": "## Python Code <a name=\"python\"></a>"
    },
    {
      "metadata": {
        "trusted": true
      },
      "cell_type": "code",
      "source": "#Importing necessary libraries\nimport os\nimport pandas as pd\nimport numpy as np\n!pip install sodapy\nfrom sodapy import Socrata\n#!conda install -c conda-forge folium=0.5.0 --yes\nimport folium # plotting library\nprint('libraries imported')",
      "execution_count": 2,
      "outputs": [
        {
          "output_type": "stream",
          "text": "Requirement already satisfied: sodapy in /home/nbuser/anaconda3_501/lib/python3.6/site-packages (2.1.0)\nRequirement already satisfied: requests>=2.20.0 in /home/nbuser/anaconda3_501/lib/python3.6/site-packages (from sodapy) (2.22.0)\nRequirement already satisfied: idna<2.9,>=2.5 in /home/nbuser/anaconda3_501/lib/python3.6/site-packages (from requests>=2.20.0->sodapy) (2.7)\nRequirement already satisfied: urllib3!=1.25.0,!=1.25.1,<1.26,>=1.21.1 in /home/nbuser/anaconda3_501/lib/python3.6/site-packages (from requests>=2.20.0->sodapy) (1.23)\nRequirement already satisfied: certifi>=2017.4.17 in /home/nbuser/anaconda3_501/lib/python3.6/site-packages (from requests>=2.20.0->sodapy) (2018.10.15)\nRequirement already satisfied: chardet<3.1.0,>=3.0.2 in /home/nbuser/anaconda3_501/lib/python3.6/site-packages (from requests>=2.20.0->sodapy) (3.0.4)\n\u001b[33mWARNING: You are using pip version 19.3.1; however, version 20.1.1 is available.\nYou should consider upgrading via the 'pip install --upgrade pip' command.\u001b[0m\nlibraries imported\n",
          "name": "stdout"
        }
      ]
    },
    {
      "metadata": {
        "trusted": true
      },
      "cell_type": "code",
      "source": "# Forming the first Dataframe by first fetching data from https://data.calgary.ca/Demographics/Civic-Census-by-Community-Age-and-Gender/vsk6-ghca\n#https://data.calgary.ca/resource/vsk6-ghca.json\ndomain = 'data.calgary.ca'\nidentifier1 = 'vsk6-ghca'\n!export SODAPY_APPTOKEN=<XMJrPlE0irficSLKuv383Gmt0>\ntoken = os.environ.get(\"SODAPY_APPTOKEN\")\nclient = Socrata(domain, token)\nresults = client.get(identifier1, limit =23000)\n\n# Convert to pandas DataFrame\ndf1 = pd.DataFrame.from_dict(results)\ndf1.head()",
      "execution_count": 3,
      "outputs": [
        {
          "output_type": "stream",
          "text": "/bin/sh: 1: Syntax error: end of file unexpected\r\n",
          "name": "stdout"
        },
        {
          "output_type": "stream",
          "text": "WARNING:root:Requests made without an app_token will be subject to strict throttling limits.\n",
          "name": "stderr"
        },
        {
          "output_type": "execute_result",
          "execution_count": 3,
          "data": {
            "text/html": "<div>\n<style scoped>\n    .dataframe tbody tr th:only-of-type {\n        vertical-align: middle;\n    }\n\n    .dataframe tbody tr th {\n        vertical-align: top;\n    }\n\n    .dataframe thead th {\n        text-align: right;\n    }\n</style>\n<table border=\"1\" class=\"dataframe\">\n  <thead>\n    <tr style=\"text-align: right;\">\n      <th></th>\n      <th>age_range</th>\n      <th>code</th>\n      <th>females</th>\n      <th>males</th>\n      <th>other</th>\n      <th>year</th>\n    </tr>\n  </thead>\n  <tbody>\n    <tr>\n      <th>0</th>\n      <td>0-4</td>\n      <td>ABB</td>\n      <td>0</td>\n      <td>635</td>\n      <td>NaN</td>\n      <td>1996</td>\n    </tr>\n    <tr>\n      <th>1</th>\n      <td>5-14</td>\n      <td>ABB</td>\n      <td>0</td>\n      <td>1438</td>\n      <td>NaN</td>\n      <td>1996</td>\n    </tr>\n    <tr>\n      <th>2</th>\n      <td>15-19</td>\n      <td>ABB</td>\n      <td>0</td>\n      <td>462</td>\n      <td>NaN</td>\n      <td>1996</td>\n    </tr>\n    <tr>\n      <th>3</th>\n      <td>20-24</td>\n      <td>ABB</td>\n      <td>0</td>\n      <td>347</td>\n      <td>NaN</td>\n      <td>1996</td>\n    </tr>\n    <tr>\n      <th>4</th>\n      <td>25-34</td>\n      <td>ABB</td>\n      <td>0</td>\n      <td>2842</td>\n      <td>NaN</td>\n      <td>1996</td>\n    </tr>\n  </tbody>\n</table>\n</div>",
            "text/plain": "  age_range code females males other  year\n0       0-4  ABB       0   635   NaN  1996\n1      5-14  ABB       0  1438   NaN  1996\n2     15-19  ABB       0   462   NaN  1996\n3     20-24  ABB       0   347   NaN  1996\n4     25-34  ABB       0  2842   NaN  1996"
          },
          "metadata": {}
        }
      ]
    },
    {
      "metadata": {
        "trusted": true
      },
      "cell_type": "code",
      "source": "#dropping data related to all years except for 2019\ndf1_2019=df1[df1['year'] == '2019'] \n\ndf1_2019.head()\n",
      "execution_count": 4,
      "outputs": [
        {
          "output_type": "execute_result",
          "execution_count": 4,
          "data": {
            "text/html": "<div>\n<style scoped>\n    .dataframe tbody tr th:only-of-type {\n        vertical-align: middle;\n    }\n\n    .dataframe tbody tr th {\n        vertical-align: top;\n    }\n\n    .dataframe thead th {\n        text-align: right;\n    }\n</style>\n<table border=\"1\" class=\"dataframe\">\n  <thead>\n    <tr style=\"text-align: right;\">\n      <th></th>\n      <th>age_range</th>\n      <th>code</th>\n      <th>females</th>\n      <th>males</th>\n      <th>other</th>\n      <th>year</th>\n    </tr>\n  </thead>\n  <tbody>\n    <tr>\n      <th>20280</th>\n      <td>0-4</td>\n      <td>ABB</td>\n      <td>175</td>\n      <td>191</td>\n      <td>0</td>\n      <td>2019</td>\n    </tr>\n    <tr>\n      <th>20281</th>\n      <td>5-14</td>\n      <td>ABB</td>\n      <td>419</td>\n      <td>527</td>\n      <td>0</td>\n      <td>2019</td>\n    </tr>\n    <tr>\n      <th>20282</th>\n      <td>15-19</td>\n      <td>ABB</td>\n      <td>168</td>\n      <td>193</td>\n      <td>0</td>\n      <td>2019</td>\n    </tr>\n    <tr>\n      <th>20283</th>\n      <td>20-24</td>\n      <td>ABB</td>\n      <td>148</td>\n      <td>185</td>\n      <td>0</td>\n      <td>2019</td>\n    </tr>\n    <tr>\n      <th>20284</th>\n      <td>25-34</td>\n      <td>ABB</td>\n      <td>428</td>\n      <td>407</td>\n      <td>0</td>\n      <td>2019</td>\n    </tr>\n  </tbody>\n</table>\n</div>",
            "text/plain": "      age_range code females males other  year\n20280       0-4  ABB     175   191     0  2019\n20281      5-14  ABB     419   527     0  2019\n20282     15-19  ABB     168   193     0  2019\n20283     20-24  ABB     148   185     0  2019\n20284     25-34  ABB     428   407     0  2019"
          },
          "metadata": {}
        }
      ]
    },
    {
      "metadata": {},
      "cell_type": "markdown",
      "source": "As it can be seen from the above dataframe, the population has been broken down to several age ranges. Since we are interested in the age range of 20-65 we will drop all other age ranges outside our interest range"
    },
    {
      "metadata": {
        "trusted": true
      },
      "cell_type": "code",
      "source": "#dropping unnecessory rows related to ages outside our interest group range\ndf1_t1= df1_2019[df1_2019['age_range'] != '0-4']\ndf1_t2= df1_t1[df1_t1['age_range'] != '5-14']\ndf1_t3= df1_t2[df1_t2['age_range'] != '15-19']\ndf1_t4= df1_t3[df1_t3['age_range'] != '65-74']\ndf1_t5= df1_t4[df1_t4['age_range'] != '75+']\ndf1_t5.head()",
      "execution_count": 5,
      "outputs": [
        {
          "output_type": "execute_result",
          "execution_count": 5,
          "data": {
            "text/html": "<div>\n<style scoped>\n    .dataframe tbody tr th:only-of-type {\n        vertical-align: middle;\n    }\n\n    .dataframe tbody tr th {\n        vertical-align: top;\n    }\n\n    .dataframe thead th {\n        text-align: right;\n    }\n</style>\n<table border=\"1\" class=\"dataframe\">\n  <thead>\n    <tr style=\"text-align: right;\">\n      <th></th>\n      <th>age_range</th>\n      <th>code</th>\n      <th>females</th>\n      <th>males</th>\n      <th>other</th>\n      <th>year</th>\n    </tr>\n  </thead>\n  <tbody>\n    <tr>\n      <th>20283</th>\n      <td>20-24</td>\n      <td>ABB</td>\n      <td>148</td>\n      <td>185</td>\n      <td>0</td>\n      <td>2019</td>\n    </tr>\n    <tr>\n      <th>20284</th>\n      <td>25-34</td>\n      <td>ABB</td>\n      <td>428</td>\n      <td>407</td>\n      <td>0</td>\n      <td>2019</td>\n    </tr>\n    <tr>\n      <th>20285</th>\n      <td>35-44</td>\n      <td>ABB</td>\n      <td>501</td>\n      <td>503</td>\n      <td>0</td>\n      <td>2019</td>\n    </tr>\n    <tr>\n      <th>20286</th>\n      <td>45-54</td>\n      <td>ABB</td>\n      <td>393</td>\n      <td>399</td>\n      <td>0</td>\n      <td>2019</td>\n    </tr>\n    <tr>\n      <th>20287</th>\n      <td>55-64</td>\n      <td>ABB</td>\n      <td>395</td>\n      <td>397</td>\n      <td>0</td>\n      <td>2019</td>\n    </tr>\n  </tbody>\n</table>\n</div>",
            "text/plain": "      age_range code females males other  year\n20283     20-24  ABB     148   185     0  2019\n20284     25-34  ABB     428   407     0  2019\n20285     35-44  ABB     501   503     0  2019\n20286     45-54  ABB     393   399     0  2019\n20287     55-64  ABB     395   397     0  2019"
          },
          "metadata": {}
        }
      ]
    },
    {
      "metadata": {},
      "cell_type": "markdown",
      "source": "The next step is to sum up the population of all genders in each age range and then sum up the population of all age ranges and aggregate it into one group of 20-64 age range per community"
    },
    {
      "metadata": {
        "trusted": true
      },
      "cell_type": "code",
      "source": "df1_modified=df1_t5.drop(['year', 'age_range'], axis =1)\ndf1_modified[['males', 'females', 'other']] = df1_modified[['males', 'females', 'other']].apply(pd.to_numeric) \ndf1_grouped=df1_modified.groupby('code', as_index=False).sum()\ndf1_grouped['total adults'] = df1_grouped.iloc[:,-3:].sum(axis=1)\ndf1_totalAdults=df1_grouped.drop(['males', 'females', 'other'], axis =1)\ndf1_totalAdults.head()",
      "execution_count": 6,
      "outputs": [
        {
          "output_type": "execute_result",
          "execution_count": 6,
          "data": {
            "text/html": "<div>\n<style scoped>\n    .dataframe tbody tr th:only-of-type {\n        vertical-align: middle;\n    }\n\n    .dataframe tbody tr th {\n        vertical-align: top;\n    }\n\n    .dataframe thead th {\n        text-align: right;\n    }\n</style>\n<table border=\"1\" class=\"dataframe\">\n  <thead>\n    <tr style=\"text-align: right;\">\n      <th></th>\n      <th>code</th>\n      <th>total adults</th>\n    </tr>\n  </thead>\n  <tbody>\n    <tr>\n      <th>0</th>\n      <td>ABB</td>\n      <td>3756</td>\n    </tr>\n    <tr>\n      <th>1</th>\n      <td>ACA</td>\n      <td>6750</td>\n    </tr>\n    <tr>\n      <th>2</th>\n      <td>ALB</td>\n      <td>4692</td>\n    </tr>\n    <tr>\n      <th>3</th>\n      <td>ALT</td>\n      <td>4629</td>\n    </tr>\n    <tr>\n      <th>4</th>\n      <td>APP</td>\n      <td>4577</td>\n    </tr>\n  </tbody>\n</table>\n</div>",
            "text/plain": "  code  total adults\n0  ABB          3756\n1  ACA          6750\n2  ALB          4692\n3  ALT          4629\n4  APP          4577"
          },
          "metadata": {}
        }
      ]
    },
    {
      "metadata": {},
      "cell_type": "markdown",
      "source": "Our first dataframe that contains the community codes and population of the people between 20 and 64 years old is ready. We need the community names so we use the Socrata API again to fetch the \"Census by Community\" data that includes both community codes and names"
    },
    {
      "metadata": {
        "trusted": true
      },
      "cell_type": "code",
      "source": "#forming the second dataframe by fetching data from https://data.calgary.ca/Demographics/Census-by-Community-2019/rkfr-buzb\n# the API endpoint is https://data.calgary.ca/resource/rkfr-buzb.json\nidentifier2 = 'rkfr-buzb'\nresults2 = client.get(identifier2, limit =400)\n# Convert to pandas DataFrame\ndf2 = pd.DataFrame.from_dict(results2)\ndf2.head()",
      "execution_count": 7,
      "outputs": [
        {
          "output_type": "execute_result",
          "execution_count": 7,
          "data": {
            "text/html": "<div>\n<style scoped>\n    .dataframe tbody tr th:only-of-type {\n        vertical-align: middle;\n    }\n\n    .dataframe tbody tr th {\n        vertical-align: top;\n    }\n\n    .dataframe thead th {\n        text-align: right;\n    }\n</style>\n<table border=\"1\" class=\"dataframe\">\n  <thead>\n    <tr style=\"text-align: right;\">\n      <th></th>\n      <th>apartment</th>\n      <th>apt_na</th>\n      <th>apt_no_res</th>\n      <th>apt_occpd</th>\n      <th>apt_owned</th>\n      <th>apt_person</th>\n      <th>apt_uc</th>\n      <th>apt_vacant</th>\n      <th>cat_cnt</th>\n      <th>class</th>\n      <th>...</th>\n      <th>srg</th>\n      <th>town_house</th>\n      <th>twn_na</th>\n      <th>twn_no_res</th>\n      <th>twn_occpd</th>\n      <th>twn_owned</th>\n      <th>twn_person</th>\n      <th>twn_uc</th>\n      <th>twn_vacant</th>\n      <th>unknwn_sch</th>\n    </tr>\n  </thead>\n  <tbody>\n    <tr>\n      <th>0</th>\n      <td>1004.0</td>\n      <td>2.0</td>\n      <td>8.0</td>\n      <td>909.0</td>\n      <td>394.0</td>\n      <td>1759.0</td>\n      <td>2.0</td>\n      <td>83.0</td>\n      <td>0.0</td>\n      <td>Residential</td>\n      <td>...</td>\n      <td>DEVELOPING</td>\n      <td>311.0</td>\n      <td>0.0</td>\n      <td>2.0</td>\n      <td>258.0</td>\n      <td>222.0</td>\n      <td>660.0</td>\n      <td>44.0</td>\n      <td>7.0</td>\n      <td>907.0</td>\n    </tr>\n    <tr>\n      <th>1</th>\n      <td>520.0</td>\n      <td>2.0</td>\n      <td>0.0</td>\n      <td>453.0</td>\n      <td>70.0</td>\n      <td>656.0</td>\n      <td>1.0</td>\n      <td>62.0</td>\n      <td>0.0</td>\n      <td>Residential</td>\n      <td>...</td>\n      <td>BUILT-OUT</td>\n      <td>24.0</td>\n      <td>0.0</td>\n      <td>0.0</td>\n      <td>18.0</td>\n      <td>0.0</td>\n      <td>46.0</td>\n      <td>2.0</td>\n      <td>4.0</td>\n      <td>1104.0</td>\n    </tr>\n    <tr>\n      <th>2</th>\n      <td>219.0</td>\n      <td>0.0</td>\n      <td>0.0</td>\n      <td>0.0</td>\n      <td>0.0</td>\n      <td>0.0</td>\n      <td>219.0</td>\n      <td>0.0</td>\n      <td>0.0</td>\n      <td>Residential</td>\n      <td>...</td>\n      <td>DEVELOPING</td>\n      <td>128.0</td>\n      <td>0.0</td>\n      <td>0.0</td>\n      <td>91.0</td>\n      <td>88.0</td>\n      <td>266.0</td>\n      <td>36.0</td>\n      <td>1.0</td>\n      <td>940.0</td>\n    </tr>\n    <tr>\n      <th>3</th>\n      <td>132.0</td>\n      <td>0.0</td>\n      <td>0.0</td>\n      <td>128.0</td>\n      <td>20.0</td>\n      <td>172.0</td>\n      <td>0.0</td>\n      <td>4.0</td>\n      <td>0.0</td>\n      <td>Residential</td>\n      <td>...</td>\n      <td>BUILT-OUT</td>\n      <td>111.0</td>\n      <td>0.0</td>\n      <td>0.0</td>\n      <td>110.0</td>\n      <td>42.0</td>\n      <td>299.0</td>\n      <td>0.0</td>\n      <td>1.0</td>\n      <td>790.0</td>\n    </tr>\n    <tr>\n      <th>4</th>\n      <td>117.0</td>\n      <td>0.0</td>\n      <td>0.0</td>\n      <td>104.0</td>\n      <td>19.0</td>\n      <td>254.0</td>\n      <td>0.0</td>\n      <td>13.0</td>\n      <td>0.0</td>\n      <td>Residential</td>\n      <td>...</td>\n      <td>BUILT-OUT</td>\n      <td>424.0</td>\n      <td>0.0</td>\n      <td>1.0</td>\n      <td>392.0</td>\n      <td>244.0</td>\n      <td>1143.0</td>\n      <td>0.0</td>\n      <td>27.0</td>\n      <td>727.0</td>\n    </tr>\n  </tbody>\n</table>\n<p>5 rows × 142 columns</p>\n</div>",
            "text/plain": "  apartment apt_na apt_no_res apt_occpd apt_owned apt_person apt_uc  \\\n0    1004.0    2.0        8.0     909.0     394.0     1759.0    2.0   \n1     520.0    2.0        0.0     453.0      70.0      656.0    1.0   \n2     219.0    0.0        0.0       0.0       0.0        0.0  219.0   \n3     132.0    0.0        0.0     128.0      20.0      172.0    0.0   \n4     117.0    0.0        0.0     104.0      19.0      254.0    0.0   \n\n  apt_vacant cat_cnt        class    ...             srg town_house twn_na  \\\n0       83.0     0.0  Residential    ...      DEVELOPING      311.0    0.0   \n1       62.0     0.0  Residential    ...       BUILT-OUT       24.0    0.0   \n2        0.0     0.0  Residential    ...      DEVELOPING      128.0    0.0   \n3        4.0     0.0  Residential    ...       BUILT-OUT      111.0    0.0   \n4       13.0     0.0  Residential    ...       BUILT-OUT      424.0    0.0   \n\n  twn_no_res twn_occpd twn_owned twn_person twn_uc twn_vacant unknwn_sch  \n0        2.0     258.0     222.0      660.0   44.0        7.0      907.0  \n1        0.0      18.0       0.0       46.0    2.0        4.0     1104.0  \n2        0.0      91.0      88.0      266.0   36.0        1.0      940.0  \n3        0.0     110.0      42.0      299.0    0.0        1.0      790.0  \n4        1.0     392.0     244.0     1143.0    0.0       27.0      727.0  \n\n[5 rows x 142 columns]"
          },
          "metadata": {}
        }
      ]
    },
    {
      "metadata": {},
      "cell_type": "markdown",
      "source": "Some of the communities are non-residential and therefore are not of our interest so we drop them. We also drop all unnecessary columns and only keep the columns contain the community codes and names"
    },
    {
      "metadata": {
        "trusted": true
      },
      "cell_type": "code",
      "source": "#droping non-residentials community\ndf2_residential= df2[df2['class'] == 'Residential'] \n#dropping all unnecessary columns\ndf2_cleaned = df2_residential[['comm_code','name']]\ndf2_cleaned.head()",
      "execution_count": 8,
      "outputs": [
        {
          "output_type": "execute_result",
          "execution_count": 8,
          "data": {
            "text/html": "<div>\n<style scoped>\n    .dataframe tbody tr th:only-of-type {\n        vertical-align: middle;\n    }\n\n    .dataframe tbody tr th {\n        vertical-align: top;\n    }\n\n    .dataframe thead th {\n        text-align: right;\n    }\n</style>\n<table border=\"1\" class=\"dataframe\">\n  <thead>\n    <tr style=\"text-align: right;\">\n      <th></th>\n      <th>comm_code</th>\n      <th>name</th>\n    </tr>\n  </thead>\n  <tbody>\n    <tr>\n      <th>0</th>\n      <td>LEG</td>\n      <td>LEGACY</td>\n    </tr>\n    <tr>\n      <th>1</th>\n      <td>HPK</td>\n      <td>HIGHLAND PARK</td>\n    </tr>\n    <tr>\n      <th>2</th>\n      <td>CNS</td>\n      <td>CORNERSTONE</td>\n    </tr>\n    <tr>\n      <th>3</th>\n      <td>MON</td>\n      <td>MONTGOMERY</td>\n    </tr>\n    <tr>\n      <th>4</th>\n      <td>TEM</td>\n      <td>TEMPLE</td>\n    </tr>\n  </tbody>\n</table>\n</div>",
            "text/plain": "  comm_code           name\n0       LEG         LEGACY\n1       HPK  HIGHLAND PARK\n2       CNS    CORNERSTONE\n3       MON     MONTGOMERY\n4       TEM         TEMPLE"
          },
          "metadata": {}
        }
      ]
    },
    {
      "metadata": {
        "trusted": true
      },
      "cell_type": "code",
      "source": "#renaming the \"comm_code\" column to \"code\" to match df1_totalAdults dataframe\ndf2=df2_cleaned.rename(columns={'comm_code': 'code'})\ndf2.head()",
      "execution_count": 10,
      "outputs": [
        {
          "output_type": "execute_result",
          "execution_count": 10,
          "data": {
            "text/html": "<div>\n<style scoped>\n    .dataframe tbody tr th:only-of-type {\n        vertical-align: middle;\n    }\n\n    .dataframe tbody tr th {\n        vertical-align: top;\n    }\n\n    .dataframe thead th {\n        text-align: right;\n    }\n</style>\n<table border=\"1\" class=\"dataframe\">\n  <thead>\n    <tr style=\"text-align: right;\">\n      <th></th>\n      <th>code</th>\n      <th>name</th>\n    </tr>\n  </thead>\n  <tbody>\n    <tr>\n      <th>0</th>\n      <td>LEG</td>\n      <td>LEGACY</td>\n    </tr>\n    <tr>\n      <th>1</th>\n      <td>HPK</td>\n      <td>HIGHLAND PARK</td>\n    </tr>\n    <tr>\n      <th>2</th>\n      <td>CNS</td>\n      <td>CORNERSTONE</td>\n    </tr>\n    <tr>\n      <th>3</th>\n      <td>MON</td>\n      <td>MONTGOMERY</td>\n    </tr>\n    <tr>\n      <th>4</th>\n      <td>TEM</td>\n      <td>TEMPLE</td>\n    </tr>\n  </tbody>\n</table>\n</div>",
            "text/plain": "  code           name\n0  LEG         LEGACY\n1  HPK  HIGHLAND PARK\n2  CNS    CORNERSTONE\n3  MON     MONTGOMERY\n4  TEM         TEMPLE"
          },
          "metadata": {}
        }
      ]
    },
    {
      "metadata": {},
      "cell_type": "markdown",
      "source": "Now we merge the two cleaned dataframes based on the common community codes in each dataframe"
    },
    {
      "metadata": {
        "trusted": true
      },
      "cell_type": "code",
      "source": "#merging df1 and df2 based on common community code\ndf_merged12=pd.merge(df2, df1_totalAdults, on=\"code\", how = 'inner')\ndf_merged12.head()",
      "execution_count": 11,
      "outputs": [
        {
          "output_type": "execute_result",
          "execution_count": 11,
          "data": {
            "text/html": "<div>\n<style scoped>\n    .dataframe tbody tr th:only-of-type {\n        vertical-align: middle;\n    }\n\n    .dataframe tbody tr th {\n        vertical-align: top;\n    }\n\n    .dataframe thead th {\n        text-align: right;\n    }\n</style>\n<table border=\"1\" class=\"dataframe\">\n  <thead>\n    <tr style=\"text-align: right;\">\n      <th></th>\n      <th>code</th>\n      <th>name</th>\n      <th>total adults</th>\n    </tr>\n  </thead>\n  <tbody>\n    <tr>\n      <th>0</th>\n      <td>LEG</td>\n      <td>LEGACY</td>\n      <td>4310</td>\n    </tr>\n    <tr>\n      <th>1</th>\n      <td>HPK</td>\n      <td>HIGHLAND PARK</td>\n      <td>2736</td>\n    </tr>\n    <tr>\n      <th>2</th>\n      <td>CNS</td>\n      <td>CORNERSTONE</td>\n      <td>1831</td>\n    </tr>\n    <tr>\n      <th>3</th>\n      <td>MON</td>\n      <td>MONTGOMERY</td>\n      <td>3159</td>\n    </tr>\n    <tr>\n      <th>4</th>\n      <td>TEM</td>\n      <td>TEMPLE</td>\n      <td>6762</td>\n    </tr>\n  </tbody>\n</table>\n</div>",
            "text/plain": "  code           name  total adults\n0  LEG         LEGACY          4310\n1  HPK  HIGHLAND PARK          2736\n2  CNS    CORNERSTONE          1831\n3  MON     MONTGOMERY          3159\n4  TEM         TEMPLE          6762"
          },
          "metadata": {}
        }
      ]
    },
    {
      "metadata": {},
      "cell_type": "markdown",
      "source": "In order to use the Foursquare API to search for the available Liquor Stores in each community, we need to have latitude and longitude of centroid of each community. Those data are available in the City of Calgary's \"Community Points\" dataset. So the next step is to use Socrata API to fetch the latitude and longitude of the centroid of each community and convert it to a Pandas dataframe "
    },
    {
      "metadata": {
        "trusted": true
      },
      "cell_type": "code",
      "source": "#forming the third dataframe by fetching data from https://data.calgary.ca/Base-Maps/Community-Points/j9ps-fyst\n# the API endpoint is https://data.calgary.ca/resource/j9ps-fyst.json\nidentifier3 = 'j9ps-fyst'\nresults3 = client.get(identifier3, limit =400)\n# Convert to pandas DataFrame\ndf3 = pd.DataFrame.from_dict(results3)\ndf3.head()",
      "execution_count": 12,
      "outputs": [
        {
          "output_type": "execute_result",
          "execution_count": 12,
          "data": {
            "text/html": "<div>\n<style scoped>\n    .dataframe tbody tr th:only-of-type {\n        vertical-align: middle;\n    }\n\n    .dataframe tbody tr th {\n        vertical-align: top;\n    }\n\n    .dataframe thead th {\n        text-align: right;\n    }\n</style>\n<table border=\"1\" class=\"dataframe\">\n  <thead>\n    <tr style=\"text-align: right;\">\n      <th></th>\n      <th>:@computed_region_4a3i_ccfj</th>\n      <th>:@computed_region_4b54_tmc4</th>\n      <th>:@computed_region_dyj4_ed5g</th>\n      <th>:@computed_region_kxmf_bzkv</th>\n      <th>:@computed_region_p8tp_5dkv</th>\n      <th>class</th>\n      <th>class_code</th>\n      <th>comm_code</th>\n      <th>comm_structure</th>\n      <th>latitude</th>\n      <th>location</th>\n      <th>longitude</th>\n      <th>name</th>\n      <th>sector</th>\n      <th>srg</th>\n    </tr>\n  </thead>\n  <tbody>\n    <tr>\n      <th>0</th>\n      <td>1</td>\n      <td>6</td>\n      <td>1</td>\n      <td>53</td>\n      <td>6</td>\n      <td>Residential</td>\n      <td>1</td>\n      <td>YKV</td>\n      <td>BUILDING OUT</td>\n      <td>50.8704034468757</td>\n      <td>{'latitude': '50.870403446876', 'longitude': '...</td>\n      <td>-114.076647581736</td>\n      <td>YORKVILLE</td>\n      <td>SOUTH</td>\n      <td>DEVELOPING</td>\n    </tr>\n    <tr>\n      <th>1</th>\n      <td>3</td>\n      <td>6</td>\n      <td>1</td>\n      <td>227</td>\n      <td>13</td>\n      <td>Residential</td>\n      <td>1</td>\n      <td>WWO</td>\n      <td>BUILDING OUT</td>\n      <td>50.8707242991201</td>\n      <td>{'latitude': '50.87072429912', 'longitude': '-...</td>\n      <td>-114.008636787791</td>\n      <td>WOLF WILLOW</td>\n      <td>SOUTH</td>\n      <td>DEVELOPING</td>\n    </tr>\n    <tr>\n      <th>2</th>\n      <td>1</td>\n      <td>1</td>\n      <td>11</td>\n      <td>114</td>\n      <td>14</td>\n      <td>Residential</td>\n      <td>1</td>\n      <td>WSP</td>\n      <td>BUILDING OUT</td>\n      <td>51.0597323984505</td>\n      <td>{'latitude': '51.059732398451', 'longitude': '...</td>\n      <td>-114.206168318752</td>\n      <td>WEST SPRINGS</td>\n      <td>WEST</td>\n      <td>DEVELOPING</td>\n    </tr>\n    <tr>\n      <th>3</th>\n      <td>1</td>\n      <td>5</td>\n      <td>8</td>\n      <td>216</td>\n      <td>6</td>\n      <td>Residential</td>\n      <td>1</td>\n      <td>WOO</td>\n      <td>1980s/1990s</td>\n      <td>50.9428758824735</td>\n      <td>{'latitude': '50.942875882474', 'longitude': '...</td>\n      <td>-114.106339454003</td>\n      <td>WOODLANDS</td>\n      <td>SOUTH</td>\n      <td>BUILT-OUT</td>\n    </tr>\n    <tr>\n      <th>4</th>\n      <td>1</td>\n      <td>8</td>\n      <td>16</td>\n      <td>144</td>\n      <td>5</td>\n      <td>Residential</td>\n      <td>1</td>\n      <td>WND</td>\n      <td>1950s</td>\n      <td>51.0050404653601</td>\n      <td>{'latitude': '51.00504046536', 'longitude': '-...</td>\n      <td>-114.083549507337</td>\n      <td>WINDSOR PARK</td>\n      <td>CENTRE</td>\n      <td>BUILT-OUT</td>\n    </tr>\n  </tbody>\n</table>\n</div>",
            "text/plain": "  :@computed_region_4a3i_ccfj :@computed_region_4b54_tmc4  \\\n0                           1                           6   \n1                           3                           6   \n2                           1                           1   \n3                           1                           5   \n4                           1                           8   \n\n  :@computed_region_dyj4_ed5g :@computed_region_kxmf_bzkv  \\\n0                           1                          53   \n1                           1                         227   \n2                          11                         114   \n3                           8                         216   \n4                          16                         144   \n\n  :@computed_region_p8tp_5dkv        class class_code comm_code  \\\n0                           6  Residential          1       YKV   \n1                          13  Residential          1       WWO   \n2                          14  Residential          1       WSP   \n3                           6  Residential          1       WOO   \n4                           5  Residential          1       WND   \n\n  comm_structure          latitude  \\\n0   BUILDING OUT  50.8704034468757   \n1   BUILDING OUT  50.8707242991201   \n2   BUILDING OUT  51.0597323984505   \n3    1980s/1990s  50.9428758824735   \n4          1950s  51.0050404653601   \n\n                                            location          longitude  \\\n0  {'latitude': '50.870403446876', 'longitude': '...  -114.076647581736   \n1  {'latitude': '50.87072429912', 'longitude': '-...  -114.008636787791   \n2  {'latitude': '51.059732398451', 'longitude': '...  -114.206168318752   \n3  {'latitude': '50.942875882474', 'longitude': '...  -114.106339454003   \n4  {'latitude': '51.00504046536', 'longitude': '-...  -114.083549507337   \n\n           name  sector         srg  \n0     YORKVILLE   SOUTH  DEVELOPING  \n1   WOLF WILLOW   SOUTH  DEVELOPING  \n2  WEST SPRINGS    WEST  DEVELOPING  \n3     WOODLANDS   SOUTH   BUILT-OUT  \n4  WINDSOR PARK  CENTRE   BUILT-OUT  "
          },
          "metadata": {}
        }
      ]
    },
    {
      "metadata": {},
      "cell_type": "markdown",
      "source": "Next, we drop the non-residential communities and unnecessary columns"
    },
    {
      "metadata": {
        "trusted": true
      },
      "cell_type": "code",
      "source": "#droping non-residentials community\ndf3_residential= df3[df3['class'] == 'Residential'] \n#dropping all unnecessary columns\ndf3_cleaned = df3_residential[['comm_code','longitude', 'latitude' ]]\ndf3_cleaned.head()",
      "execution_count": 13,
      "outputs": [
        {
          "output_type": "execute_result",
          "execution_count": 13,
          "data": {
            "text/html": "<div>\n<style scoped>\n    .dataframe tbody tr th:only-of-type {\n        vertical-align: middle;\n    }\n\n    .dataframe tbody tr th {\n        vertical-align: top;\n    }\n\n    .dataframe thead th {\n        text-align: right;\n    }\n</style>\n<table border=\"1\" class=\"dataframe\">\n  <thead>\n    <tr style=\"text-align: right;\">\n      <th></th>\n      <th>comm_code</th>\n      <th>longitude</th>\n      <th>latitude</th>\n    </tr>\n  </thead>\n  <tbody>\n    <tr>\n      <th>0</th>\n      <td>YKV</td>\n      <td>-114.076647581736</td>\n      <td>50.8704034468757</td>\n    </tr>\n    <tr>\n      <th>1</th>\n      <td>WWO</td>\n      <td>-114.008636787791</td>\n      <td>50.8707242991201</td>\n    </tr>\n    <tr>\n      <th>2</th>\n      <td>WSP</td>\n      <td>-114.206168318752</td>\n      <td>51.0597323984505</td>\n    </tr>\n    <tr>\n      <th>3</th>\n      <td>WOO</td>\n      <td>-114.106339454003</td>\n      <td>50.9428758824735</td>\n    </tr>\n    <tr>\n      <th>4</th>\n      <td>WND</td>\n      <td>-114.083549507337</td>\n      <td>51.0050404653601</td>\n    </tr>\n  </tbody>\n</table>\n</div>",
            "text/plain": "  comm_code          longitude          latitude\n0       YKV  -114.076647581736  50.8704034468757\n1       WWO  -114.008636787791  50.8707242991201\n2       WSP  -114.206168318752  51.0597323984505\n3       WOO  -114.106339454003  50.9428758824735\n4       WND  -114.083549507337  51.0050404653601"
          },
          "metadata": {}
        }
      ]
    },
    {
      "metadata": {},
      "cell_type": "markdown",
      "source": "Now we merge the above dataframe with the one resulted from merging DF1 and DF2 and then drop the \"Code\" column"
    },
    {
      "metadata": {
        "trusted": true
      },
      "cell_type": "code",
      "source": "#renaming the \"comm_code\" column to \"code\" to match df_merged12 dataframe\ndf3=df3_cleaned.rename(columns={'comm_code': 'code'})\n#merging df_merged12 and df3 based on common community code\ndf_merged=pd.merge(df_merged12, df3, on=\"code\", how = 'inner')\n#we don't need the community code column anymore so we can drop it to have a cleaner dataframe\ndf=df_merged.drop(['code'], axis=1)\ndf.head()",
      "execution_count": 14,
      "outputs": [
        {
          "output_type": "execute_result",
          "execution_count": 14,
          "data": {
            "text/html": "<div>\n<style scoped>\n    .dataframe tbody tr th:only-of-type {\n        vertical-align: middle;\n    }\n\n    .dataframe tbody tr th {\n        vertical-align: top;\n    }\n\n    .dataframe thead th {\n        text-align: right;\n    }\n</style>\n<table border=\"1\" class=\"dataframe\">\n  <thead>\n    <tr style=\"text-align: right;\">\n      <th></th>\n      <th>name</th>\n      <th>total adults</th>\n      <th>longitude</th>\n      <th>latitude</th>\n    </tr>\n  </thead>\n  <tbody>\n    <tr>\n      <th>0</th>\n      <td>LEGACY</td>\n      <td>4310</td>\n      <td>-114.005999006031</td>\n      <td>50.8576170329455</td>\n    </tr>\n    <tr>\n      <th>1</th>\n      <td>HIGHLAND PARK</td>\n      <td>2736</td>\n      <td>-114.062066898001</td>\n      <td>51.0880232734306</td>\n    </tr>\n    <tr>\n      <th>2</th>\n      <td>CORNERSTONE</td>\n      <td>1831</td>\n      <td>-113.930582035357</td>\n      <td>51.1573690704188</td>\n    </tr>\n    <tr>\n      <th>3</th>\n      <td>MONTGOMERY</td>\n      <td>3159</td>\n      <td>-114.162261375791</td>\n      <td>51.0710992820493</td>\n    </tr>\n    <tr>\n      <th>4</th>\n      <td>TEMPLE</td>\n      <td>6762</td>\n      <td>-113.946767730631</td>\n      <td>51.0887951436987</td>\n    </tr>\n  </tbody>\n</table>\n</div>",
            "text/plain": "            name  total adults          longitude          latitude\n0         LEGACY          4310  -114.005999006031  50.8576170329455\n1  HIGHLAND PARK          2736  -114.062066898001  51.0880232734306\n2    CORNERSTONE          1831  -113.930582035357  51.1573690704188\n3     MONTGOMERY          3159  -114.162261375791  51.0710992820493\n4         TEMPLE          6762  -113.946767730631  51.0887951436987"
          },
          "metadata": {}
        }
      ]
    },
    {
      "metadata": {},
      "cell_type": "markdown",
      "source": "It's time to use the Forsquare API. We need to define our credentials and also import some libraries to handle the fetched data"
    },
    {
      "metadata": {
        "trusted": true
      },
      "cell_type": "code",
      "source": "#Define Foursquare Credentials and Version\nCLIENT_ID = 'LIDY1YMEGHDKSVJHH2Q0DCLFMPHVJMTUNNFHUSCFRBSYRS5X' # your Foursquare ID\nCLIENT_SECRET = '0IDF2GB2ZFGYJICUSEVPNWFIY5W0OLAB0YH5MFJWEVZMRXIZ' # your Foursquare Secret\nVERSION = '20200611'\nLIMIT = 20\nprint('Your credentails:')\nprint('CLIENT_ID: ' + CLIENT_ID)\nprint('CLIENT_SECRET:' + CLIENT_SECRET)",
      "execution_count": 15,
      "outputs": [
        {
          "output_type": "stream",
          "text": "Your credentails:\nCLIENT_ID: LIDY1YMEGHDKSVJHH2Q0DCLFMPHVJMTUNNFHUSCFRBSYRS5X\nCLIENT_SECRET:0IDF2GB2ZFGYJICUSEVPNWFIY5W0OLAB0YH5MFJWEVZMRXIZ\n",
          "name": "stdout"
        }
      ]
    },
    {
      "metadata": {
        "trusted": true
      },
      "cell_type": "code",
      "source": "#importing necessary libraries\nimport requests\n# tranforming json file into a pandas dataframe library\nfrom pandas.io.json import json_normalize",
      "execution_count": 16,
      "outputs": []
    },
    {
      "metadata": {},
      "cell_type": "markdown",
      "source": "Now we search for Liquor Stores within 4 km of the centroid of each community"
    },
    {
      "metadata": {
        "trusted": true
      },
      "cell_type": "code",
      "source": "search_query = 'Liquor'\nradius = 4000\ndef get_category_type(row):\n    try:\n        categories_list = row['categories']\n    except:\n        categories_list = row['venue.categories']\n        \n    if len(categories_list) == 0:\n        return None\n    else:\n        return categories_list[0]['name']\nrowIndex = 0  \nfor a,b in zip(df.longitude, df.latitude): \n    latitude=float(b)\n    longitude=float(a)\n    url = 'https://api.foursquare.com/v2/venues/search?client_id={}&client_secret={}&ll={},{}&v={}&query={}&radius={}&limit={}'.format(CLIENT_ID, CLIENT_SECRET, latitude, longitude, VERSION, search_query, radius, LIMIT)\n\n    # tranform venues into a dataframe\n    try:\n        result = requests.get(url).json()\n        venues = result['response']['venues']\n        dataframe = json_normalize(venues)\n        filtered_columns = ['name', 'categories'] \n        dataframe_filtered = dataframe.loc[:, filtered_columns]\n        # filter the category for each row\n        dataframe_filtered['categories'] = dataframe_filtered.apply(get_category_type, axis=1)\n        # clean column names by keeping only last term\n        dataframe_filtered.columns = [column.split('.')[-1] for column in dataframe_filtered.columns]\n        df4=dataframe_filtered[dataframe_filtered['categories'] == 'Liquor Store']\n        number_of_liquore_stores = len(df4.index)\n    except:\n        number_of_liquore_stores = 0        \n    df.loc[rowIndex, 'nStores'] = number_of_liquore_stores\n    rowIndex += 1\ndf.head()",
      "execution_count": 17,
      "outputs": [
        {
          "output_type": "execute_result",
          "execution_count": 17,
          "data": {
            "text/html": "<div>\n<style scoped>\n    .dataframe tbody tr th:only-of-type {\n        vertical-align: middle;\n    }\n\n    .dataframe tbody tr th {\n        vertical-align: top;\n    }\n\n    .dataframe thead th {\n        text-align: right;\n    }\n</style>\n<table border=\"1\" class=\"dataframe\">\n  <thead>\n    <tr style=\"text-align: right;\">\n      <th></th>\n      <th>name</th>\n      <th>total adults</th>\n      <th>longitude</th>\n      <th>latitude</th>\n      <th>nStores</th>\n    </tr>\n  </thead>\n  <tbody>\n    <tr>\n      <th>0</th>\n      <td>LEGACY</td>\n      <td>4310</td>\n      <td>-114.005999006031</td>\n      <td>50.8576170329455</td>\n      <td>8.0</td>\n    </tr>\n    <tr>\n      <th>1</th>\n      <td>HIGHLAND PARK</td>\n      <td>2736</td>\n      <td>-114.062066898001</td>\n      <td>51.0880232734306</td>\n      <td>18.0</td>\n    </tr>\n    <tr>\n      <th>2</th>\n      <td>CORNERSTONE</td>\n      <td>1831</td>\n      <td>-113.930582035357</td>\n      <td>51.1573690704188</td>\n      <td>3.0</td>\n    </tr>\n    <tr>\n      <th>3</th>\n      <td>MONTGOMERY</td>\n      <td>3159</td>\n      <td>-114.162261375791</td>\n      <td>51.0710992820493</td>\n      <td>15.0</td>\n    </tr>\n    <tr>\n      <th>4</th>\n      <td>TEMPLE</td>\n      <td>6762</td>\n      <td>-113.946767730631</td>\n      <td>51.0887951436987</td>\n      <td>15.0</td>\n    </tr>\n  </tbody>\n</table>\n</div>",
            "text/plain": "            name  total adults          longitude          latitude  nStores\n0         LEGACY          4310  -114.005999006031  50.8576170329455      8.0\n1  HIGHLAND PARK          2736  -114.062066898001  51.0880232734306     18.0\n2    CORNERSTONE          1831  -113.930582035357  51.1573690704188      3.0\n3     MONTGOMERY          3159  -114.162261375791  51.0710992820493     15.0\n4         TEMPLE          6762  -113.946767730631  51.0887951436987     15.0"
          },
          "metadata": {}
        }
      ]
    },
    {
      "metadata": {
        "slideshow": {
          "slide_type": "fragment"
        }
      },
      "cell_type": "raw",
      "source": "Noe we add another column and name it \"adultsPerStore\" which represents the number of residents between 20 and 64 years old living per every liquor store located within 4 km of centroid of each community. The community corresponding to the biggest value of the new column is the most optimal community to open a new liquor store"
    },
    {
      "metadata": {
        "trusted": true
      },
      "cell_type": "code",
      "source": "df['adultsPerStore']=df['total adults']/df['nStores']\ndf.head()",
      "execution_count": 18,
      "outputs": [
        {
          "output_type": "execute_result",
          "execution_count": 18,
          "data": {
            "text/html": "<div>\n<style scoped>\n    .dataframe tbody tr th:only-of-type {\n        vertical-align: middle;\n    }\n\n    .dataframe tbody tr th {\n        vertical-align: top;\n    }\n\n    .dataframe thead th {\n        text-align: right;\n    }\n</style>\n<table border=\"1\" class=\"dataframe\">\n  <thead>\n    <tr style=\"text-align: right;\">\n      <th></th>\n      <th>name</th>\n      <th>total adults</th>\n      <th>longitude</th>\n      <th>latitude</th>\n      <th>nStores</th>\n      <th>adultsPerStore</th>\n    </tr>\n  </thead>\n  <tbody>\n    <tr>\n      <th>0</th>\n      <td>LEGACY</td>\n      <td>4310</td>\n      <td>-114.005999006031</td>\n      <td>50.8576170329455</td>\n      <td>8.0</td>\n      <td>538.750000</td>\n    </tr>\n    <tr>\n      <th>1</th>\n      <td>HIGHLAND PARK</td>\n      <td>2736</td>\n      <td>-114.062066898001</td>\n      <td>51.0880232734306</td>\n      <td>18.0</td>\n      <td>152.000000</td>\n    </tr>\n    <tr>\n      <th>2</th>\n      <td>CORNERSTONE</td>\n      <td>1831</td>\n      <td>-113.930582035357</td>\n      <td>51.1573690704188</td>\n      <td>3.0</td>\n      <td>610.333333</td>\n    </tr>\n    <tr>\n      <th>3</th>\n      <td>MONTGOMERY</td>\n      <td>3159</td>\n      <td>-114.162261375791</td>\n      <td>51.0710992820493</td>\n      <td>15.0</td>\n      <td>210.600000</td>\n    </tr>\n    <tr>\n      <th>4</th>\n      <td>TEMPLE</td>\n      <td>6762</td>\n      <td>-113.946767730631</td>\n      <td>51.0887951436987</td>\n      <td>15.0</td>\n      <td>450.800000</td>\n    </tr>\n  </tbody>\n</table>\n</div>",
            "text/plain": "            name  total adults          longitude          latitude  nStores  \\\n0         LEGACY          4310  -114.005999006031  50.8576170329455      8.0   \n1  HIGHLAND PARK          2736  -114.062066898001  51.0880232734306     18.0   \n2    CORNERSTONE          1831  -113.930582035357  51.1573690704188      3.0   \n3     MONTGOMERY          3159  -114.162261375791  51.0710992820493     15.0   \n4         TEMPLE          6762  -113.946767730631  51.0887951436987     15.0   \n\n   adultsPerStore  \n0      538.750000  \n1      152.000000  \n2      610.333333  \n3      210.600000  \n4      450.800000  "
          },
          "metadata": {}
        }
      ]
    },
    {
      "metadata": {},
      "cell_type": "markdown",
      "source": "## Results <a name=\"results\"></a>"
    },
    {
      "metadata": {
        "trusted": true
      },
      "cell_type": "code",
      "source": "print(df[df.adultsPerStore == df.adultsPerStore.max()]) \n",
      "execution_count": 23,
      "outputs": [
        {
          "output_type": "stream",
          "text": "             name  total adults          longitude          latitude  nStores  \\\n57  SKYVIEW RANCH          7808  -113.958374584808  51.1561260801993      4.0   \n\n    adultsPerStore  \n57          1952.0  \n",
          "name": "stdout"
        }
      ]
    },
    {
      "metadata": {
        "trusted": true,
        "scrolled": true
      },
      "cell_type": "code",
      "source": "latitude = 51.1561260801993\nlongitude = -113.958374584808\nsearch_query = 'Liquor'\nradius = 4000\ndef get_category_type(row):\n    try:\n        categories_list = row['categories']\n    except:\n        categories_list = row['venue.categories']\n        \n    if len(categories_list) == 0:\n        return None\n    else:\n        return categories_list[0]['name']\nurl = 'https://api.foursquare.com/v2/venues/search?client_id={}&client_secret={}&ll={},{}&v={}&query={}&radius={}&limit={}'.format(CLIENT_ID, CLIENT_SECRET, latitude, longitude, VERSION, search_query, radius, LIMIT)\nresult = requests.get(url).json()\nvenues = result['response']['venues']\ndataframe = json_normalize(venues)\nfiltered_columns = ['name', 'categories', 'location.lat', 'location.lng'] \ndataframe_filtered = dataframe.loc[:, filtered_columns]\n# filter the category for each row\ndataframe_filtered['categories'] = dataframe_filtered.apply(get_category_type, axis=1)\n# clean column names by keeping only last term\ndataframe_filtered.columns = [column.split('.')[-1] for column in dataframe_filtered.columns]\ndf4=dataframe_filtered[dataframe_filtered['categories'] == 'Liquor Store']\n\nskyview_map = folium.Map(location=[latitude, longitude], zoom_start=13) # generate map centred around the Conrad Hotel\n\n# add the liquore Stores as blue circle markers on map\nfor lat, lng, label in zip(dataframe_filtered.lat, dataframe_filtered.lng, dataframe_filtered.categories):\n    folium.Marker(\n    location=[lat, lng],\n    popup=label,\n    icon=folium.Icon(color='blue')\n    ).add_to(skyview_map) \n# display map\nskyview_map",
      "execution_count": 35,
      "outputs": [
        {
          "output_type": "execute_result",
          "execution_count": 35,
          "data": {
            "text/html": "<div style=\"width:100%;\"><div style=\"position:relative;width:100%;height:0;padding-bottom:60%;\"><iframe src=\"data:text/html;base64,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\" style=\"position:absolute;width:100%;height:100%;left:0;top:0;\"></iframe></div></div>",
            "text/plain": "<folium.folium.Map at 0x7f388f5c7cc0>"
          },
          "metadata": {}
        }
      ]
    },
    {
      "metadata": {
        "trusted": true
      },
      "cell_type": "markdown",
      "source": "## Discussion <a name=\"discussion\"></a>"
    },
    {
      "metadata": {},
      "cell_type": "markdown",
      "source": "Based on the observations, most of the communities with high adult population with respect to the number of available liquore stores are located in the North East quarter of the City of Calgary with the Skyview Ranch being the most optimal community to open a new liquor store. There are four liquore stores located within 4 kilometers from the centroid of the Skyview Ranch community with the population of 7808 among the age group of 20-64. Community of Cranston located in the south of Calgary is the second most optimal community to open a new liquor store. There are eight liquore stores located within 4 kilometers from the centroid of the Skyview Ranch community with the population of 12257 among the age group of 20-64"
    },
    {
      "metadata": {},
      "cell_type": "markdown",
      "source": "## Conclusion <a name=\"conclusion\"></a>"
    },
    {
      "metadata": {},
      "cell_type": "markdown",
      "source": "This study analyzed the number of available liquore stores within 4 kilometers of the centroid of each community in the City of Calgary to find an optimal location to open a new liquor store. The population of the people between 20 and 64 years old was found from the 2019 Civic Census results published in the **City of Calgary's Open Data Portal and Citizenship Dashboard**. The socrata API was used to extract the required data drom the Census results and conver it to Pandas dataframes so they can be used in this analysis. Foursquare API was used to search fo the liquore stores and find the number of available liquor stores within 4000 meters from the centroid of each community. The population of 20-64 age group residing in each community then was divided by the number of liquore stores found from the Foursquare API. The result showed that the most optimal community to open a new liquor store is Skyview Ranch followed by the Cranston community. "
    },
    {
      "metadata": {},
      "cell_type": "markdown",
      "source": "## Disclaimer <a name=\"disclaimer\"></a>"
    },
    {
      "metadata": {},
      "cell_type": "markdown",
      "source": "This study was solely done as part of the capstone project to complete the **IBM Data Science Professional Certificate** and it is by no mean should be considered as business or financial advise. "
    }
  ],
  "metadata": {
    "kernelspec": {
      "name": "python36",
      "display_name": "Python 3.6",
      "language": "python"
    },
    "language_info": {
      "mimetype": "text/x-python",
      "nbconvert_exporter": "python",
      "name": "python",
      "pygments_lexer": "ipython3",
      "version": "3.6.6",
      "file_extension": ".py",
      "codemirror_mode": {
        "version": 3,
        "name": "ipython"
      }
    }
  },
  "nbformat": 4,
  "nbformat_minor": 1
}